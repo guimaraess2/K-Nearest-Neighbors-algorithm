{
  "nbformat": 4,
  "nbformat_minor": 0,
  "metadata": {
    "colab": {
      "provenance": [],
      "collapsed_sections": [],
      "authorship_tag": "ABX9TyMxfNm3TLaiVl4XQ1KPmEvn",
      "include_colab_link": true
    },
    "kernelspec": {
      "name": "python3",
      "display_name": "Python 3"
    },
    "language_info": {
      "name": "python"
    }
  },
  "cells": [
    {
      "cell_type": "markdown",
      "metadata": {
        "id": "view-in-github",
        "colab_type": "text"
      },
      "source": [
        "<a href=\"https://colab.research.google.com/github/guimaraess2/K-Nearest-Neighbors-algorithm/blob/master/Predictive_maintenance.ipynb\" target=\"_parent\"><img src=\"https://colab.research.google.com/assets/colab-badge.svg\" alt=\"Open In Colab\"/></a>"
      ]
    },
    {
      "cell_type": "markdown",
      "source": [
        "**Importando as bibliotecas**"
      ],
      "metadata": {
        "id": "HaI1bFEVByJd"
      }
    },
    {
      "cell_type": "code",
      "execution_count": 26,
      "metadata": {
        "id": "MVc1dzOjsPsm"
      },
      "outputs": [],
      "source": [
        "import pandas as pd\n",
        "import seaborn as sns\n",
        "import matplotlib.pyplot as plt\n",
        "import plotly.express as px\n",
        "import numpy as np\n",
        "import pickle\n",
        "from sklearn.ensemble import RandomForestClassifier\n",
        "from sklearn.neighbors import KNeighborsClassifier\n",
        "from sklearn.metrics import roc_auc_score, confusion_matrix, plot_confusion_matrix\n",
        "import warnings\n",
        "warnings.filterwarnings('ignore')"
      ]
    },
    {
      "cell_type": "markdown",
      "source": [
        "**Carregando as bases de dados**"
      ],
      "metadata": {
        "id": "BzRSCpDhB3cH"
      }
    },
    {
      "cell_type": "code",
      "source": [
        "train_df = pd.read_csv('C:/Mauro/Inteligencia_Artificial/Machine_learning/Man_pred_test.csv')\n",
        "test_df = pd.read_csv('C:/Mauro/Inteligencia_Artificial/Machine_learning/Man_pred_test.csv')"
      ],
      "metadata": {
        "id": "CgVoSKuJvD_j"
      },
      "execution_count": 27,
      "outputs": []
    },
    {
      "cell_type": "markdown",
      "source": [
        "**Manipulação de dados**"
      ],
      "metadata": {
        "id": "RS4wrKn5CAm4"
      }
    },
    {
      "cell_type": "code",
      "source": [
        "df = pd.concat([df_treino, df_teste])\n",
        "df.head()"
      ],
      "metadata": {
        "colab": {
          "base_uri": "https://localhost:8080/",
          "height": 206
        },
        "id": "07-TwtOUsdGk",
        "outputId": "f36b8367-4b31-47ab-b550-8f295d7c1192"
      },
      "execution_count": 28,
      "outputs": [
        {
          "output_type": "execute_result",
          "data": {
            "text/plain": [
              "  ID Produto Qualidade  Temperatura ar [K]  Temperatura processo [K]  \\\n",
              "0     B57099     Baixa               298.5                     308.8   \n",
              "1     B50640     Baixa               301.5                     310.3   \n",
              "2     B55178     Baixa               300.9                     312.1   \n",
              "3     B51337     Baixa               302.0                     310.5   \n",
              "4     B56278     Baixa               297.3                     308.1   \n",
              "\n",
              "   Velocidade rotação [rpm]  Torque [Nm]  Desgaste [min]  Falha  \\\n",
              "0                    1305.0         58.7            26.0    0.0   \n",
              "1                    1415.0         41.6            28.0    0.0   \n",
              "2                    1359.0         51.7           146.0    0.0   \n",
              "3                    1263.0         60.6            90.0    1.0   \n",
              "4                    1468.0         49.8             0.0    0.0   \n",
              "\n",
              "         Tipo falha  \n",
              "0         Sem falha  \n",
              "1         Sem falha  \n",
              "2         Sem falha  \n",
              "3  Superaquecimento  \n",
              "4         Sem falha  "
            ],
            "text/html": [
              "\n",
              "  <div id=\"df-d8c04c39-ede5-4bf7-a2f3-b2ff2f81021a\">\n",
              "    <div class=\"colab-df-container\">\n",
              "      <div>\n",
              "<style scoped>\n",
              "    .dataframe tbody tr th:only-of-type {\n",
              "        vertical-align: middle;\n",
              "    }\n",
              "\n",
              "    .dataframe tbody tr th {\n",
              "        vertical-align: top;\n",
              "    }\n",
              "\n",
              "    .dataframe thead th {\n",
              "        text-align: right;\n",
              "    }\n",
              "</style>\n",
              "<table border=\"1\" class=\"dataframe\">\n",
              "  <thead>\n",
              "    <tr style=\"text-align: right;\">\n",
              "      <th></th>\n",
              "      <th>ID Produto</th>\n",
              "      <th>Qualidade</th>\n",
              "      <th>Temperatura ar [K]</th>\n",
              "      <th>Temperatura processo [K]</th>\n",
              "      <th>Velocidade rotação [rpm]</th>\n",
              "      <th>Torque [Nm]</th>\n",
              "      <th>Desgaste [min]</th>\n",
              "      <th>Falha</th>\n",
              "      <th>Tipo falha</th>\n",
              "    </tr>\n",
              "  </thead>\n",
              "  <tbody>\n",
              "    <tr>\n",
              "      <th>0</th>\n",
              "      <td>B57099</td>\n",
              "      <td>Baixa</td>\n",
              "      <td>298.5</td>\n",
              "      <td>308.8</td>\n",
              "      <td>1305.0</td>\n",
              "      <td>58.7</td>\n",
              "      <td>26.0</td>\n",
              "      <td>0.0</td>\n",
              "      <td>Sem falha</td>\n",
              "    </tr>\n",
              "    <tr>\n",
              "      <th>1</th>\n",
              "      <td>B50640</td>\n",
              "      <td>Baixa</td>\n",
              "      <td>301.5</td>\n",
              "      <td>310.3</td>\n",
              "      <td>1415.0</td>\n",
              "      <td>41.6</td>\n",
              "      <td>28.0</td>\n",
              "      <td>0.0</td>\n",
              "      <td>Sem falha</td>\n",
              "    </tr>\n",
              "    <tr>\n",
              "      <th>2</th>\n",
              "      <td>B55178</td>\n",
              "      <td>Baixa</td>\n",
              "      <td>300.9</td>\n",
              "      <td>312.1</td>\n",
              "      <td>1359.0</td>\n",
              "      <td>51.7</td>\n",
              "      <td>146.0</td>\n",
              "      <td>0.0</td>\n",
              "      <td>Sem falha</td>\n",
              "    </tr>\n",
              "    <tr>\n",
              "      <th>3</th>\n",
              "      <td>B51337</td>\n",
              "      <td>Baixa</td>\n",
              "      <td>302.0</td>\n",
              "      <td>310.5</td>\n",
              "      <td>1263.0</td>\n",
              "      <td>60.6</td>\n",
              "      <td>90.0</td>\n",
              "      <td>1.0</td>\n",
              "      <td>Superaquecimento</td>\n",
              "    </tr>\n",
              "    <tr>\n",
              "      <th>4</th>\n",
              "      <td>B56278</td>\n",
              "      <td>Baixa</td>\n",
              "      <td>297.3</td>\n",
              "      <td>308.1</td>\n",
              "      <td>1468.0</td>\n",
              "      <td>49.8</td>\n",
              "      <td>0.0</td>\n",
              "      <td>0.0</td>\n",
              "      <td>Sem falha</td>\n",
              "    </tr>\n",
              "  </tbody>\n",
              "</table>\n",
              "</div>\n",
              "      <button class=\"colab-df-convert\" onclick=\"convertToInteractive('df-d8c04c39-ede5-4bf7-a2f3-b2ff2f81021a')\"\n",
              "              title=\"Convert this dataframe to an interactive table.\"\n",
              "              style=\"display:none;\">\n",
              "        \n",
              "  <svg xmlns=\"http://www.w3.org/2000/svg\" height=\"24px\"viewBox=\"0 0 24 24\"\n",
              "       width=\"24px\">\n",
              "    <path d=\"M0 0h24v24H0V0z\" fill=\"none\"/>\n",
              "    <path d=\"M18.56 5.44l.94 2.06.94-2.06 2.06-.94-2.06-.94-.94-2.06-.94 2.06-2.06.94zm-11 1L8.5 8.5l.94-2.06 2.06-.94-2.06-.94L8.5 2.5l-.94 2.06-2.06.94zm10 10l.94 2.06.94-2.06 2.06-.94-2.06-.94-.94-2.06-.94 2.06-2.06.94z\"/><path d=\"M17.41 7.96l-1.37-1.37c-.4-.4-.92-.59-1.43-.59-.52 0-1.04.2-1.43.59L10.3 9.45l-7.72 7.72c-.78.78-.78 2.05 0 2.83L4 21.41c.39.39.9.59 1.41.59.51 0 1.02-.2 1.41-.59l7.78-7.78 2.81-2.81c.8-.78.8-2.07 0-2.86zM5.41 20L4 18.59l7.72-7.72 1.47 1.35L5.41 20z\"/>\n",
              "  </svg>\n",
              "      </button>\n",
              "      \n",
              "  <style>\n",
              "    .colab-df-container {\n",
              "      display:flex;\n",
              "      flex-wrap:wrap;\n",
              "      gap: 12px;\n",
              "    }\n",
              "\n",
              "    .colab-df-convert {\n",
              "      background-color: #E8F0FE;\n",
              "      border: none;\n",
              "      border-radius: 50%;\n",
              "      cursor: pointer;\n",
              "      display: none;\n",
              "      fill: #1967D2;\n",
              "      height: 32px;\n",
              "      padding: 0 0 0 0;\n",
              "      width: 32px;\n",
              "    }\n",
              "\n",
              "    .colab-df-convert:hover {\n",
              "      background-color: #E2EBFA;\n",
              "      box-shadow: 0px 1px 2px rgba(60, 64, 67, 0.3), 0px 1px 3px 1px rgba(60, 64, 67, 0.15);\n",
              "      fill: #174EA6;\n",
              "    }\n",
              "\n",
              "    [theme=dark] .colab-df-convert {\n",
              "      background-color: #3B4455;\n",
              "      fill: #D2E3FC;\n",
              "    }\n",
              "\n",
              "    [theme=dark] .colab-df-convert:hover {\n",
              "      background-color: #434B5C;\n",
              "      box-shadow: 0px 1px 3px 1px rgba(0, 0, 0, 0.15);\n",
              "      filter: drop-shadow(0px 1px 2px rgba(0, 0, 0, 0.3));\n",
              "      fill: #FFFFFF;\n",
              "    }\n",
              "  </style>\n",
              "\n",
              "      <script>\n",
              "        const buttonEl =\n",
              "          document.querySelector('#df-d8c04c39-ede5-4bf7-a2f3-b2ff2f81021a button.colab-df-convert');\n",
              "        buttonEl.style.display =\n",
              "          google.colab.kernel.accessAllowed ? 'block' : 'none';\n",
              "\n",
              "        async function convertToInteractive(key) {\n",
              "          const element = document.querySelector('#df-d8c04c39-ede5-4bf7-a2f3-b2ff2f81021a');\n",
              "          const dataTable =\n",
              "            await google.colab.kernel.invokeFunction('convertToInteractive',\n",
              "                                                     [key], {});\n",
              "          if (!dataTable) return;\n",
              "\n",
              "          const docLinkHtml = 'Like what you see? Visit the ' +\n",
              "            '<a target=\"_blank\" href=https://colab.research.google.com/notebooks/data_table.ipynb>data table notebook</a>'\n",
              "            + ' to learn more about interactive tables.';\n",
              "          element.innerHTML = '';\n",
              "          dataTable['output_type'] = 'display_data';\n",
              "          await google.colab.output.renderOutput(dataTable, element);\n",
              "          const docLink = document.createElement('div');\n",
              "          docLink.innerHTML = docLinkHtml;\n",
              "          element.appendChild(docLink);\n",
              "        }\n",
              "      </script>\n",
              "    </div>\n",
              "  </div>\n",
              "  "
            ]
          },
          "metadata": {},
          "execution_count": 28
        }
      ]
    },
    {
      "cell_type": "code",
      "source": [
        "df.duplicated( ).sum( )"
      ],
      "metadata": {
        "colab": {
          "base_uri": "https://localhost:8080/"
        },
        "id": "mDf1JTfK4a1v",
        "outputId": "d01d490c-40b6-412c-9fb3-4c9b4a2f06c2"
      },
      "execution_count": 29,
      "outputs": [
        {
          "output_type": "execute_result",
          "data": {
            "text/plain": [
              "0"
            ]
          },
          "metadata": {},
          "execution_count": 29
        }
      ]
    },
    {
      "cell_type": "code",
      "source": [
        "df.sample(4)"
      ],
      "metadata": {
        "colab": {
          "base_uri": "https://localhost:8080/",
          "height": 175
        },
        "id": "dwCEHAt65Dj-",
        "outputId": "9a212968-de79-427b-a7f5-0bef346637bf"
      },
      "execution_count": 30,
      "outputs": [
        {
          "output_type": "execute_result",
          "data": {
            "text/plain": [
              "     ID Produto Qualidade  Temperatura ar [K]  Temperatura processo [K]  \\\n",
              "358      B53529     Baixa               300.1                     309.8   \n",
              "1772     A37799      Alta               298.8                     309.8   \n",
              "3695     M16739     Média               298.2                     307.7   \n",
              "6223     A38486      Alta               297.2                     308.1   \n",
              "\n",
              "      Velocidade rotação [rpm]  Torque [Nm]  Desgaste [min]  Falha Tipo falha  \n",
              "358                     1506.0         35.2            21.0    0.0  Sem falha  \n",
              "1772                    1563.0         38.8            65.0    0.0  Sem falha  \n",
              "3695                    1608.0         33.8           106.0    0.0  Sem falha  \n",
              "6223                    1770.0         27.2           140.0    0.0  Sem falha  "
            ],
            "text/html": [
              "\n",
              "  <div id=\"df-a07ee2e7-93c7-4181-9409-b553ef3f010f\">\n",
              "    <div class=\"colab-df-container\">\n",
              "      <div>\n",
              "<style scoped>\n",
              "    .dataframe tbody tr th:only-of-type {\n",
              "        vertical-align: middle;\n",
              "    }\n",
              "\n",
              "    .dataframe tbody tr th {\n",
              "        vertical-align: top;\n",
              "    }\n",
              "\n",
              "    .dataframe thead th {\n",
              "        text-align: right;\n",
              "    }\n",
              "</style>\n",
              "<table border=\"1\" class=\"dataframe\">\n",
              "  <thead>\n",
              "    <tr style=\"text-align: right;\">\n",
              "      <th></th>\n",
              "      <th>ID Produto</th>\n",
              "      <th>Qualidade</th>\n",
              "      <th>Temperatura ar [K]</th>\n",
              "      <th>Temperatura processo [K]</th>\n",
              "      <th>Velocidade rotação [rpm]</th>\n",
              "      <th>Torque [Nm]</th>\n",
              "      <th>Desgaste [min]</th>\n",
              "      <th>Falha</th>\n",
              "      <th>Tipo falha</th>\n",
              "    </tr>\n",
              "  </thead>\n",
              "  <tbody>\n",
              "    <tr>\n",
              "      <th>358</th>\n",
              "      <td>B53529</td>\n",
              "      <td>Baixa</td>\n",
              "      <td>300.1</td>\n",
              "      <td>309.8</td>\n",
              "      <td>1506.0</td>\n",
              "      <td>35.2</td>\n",
              "      <td>21.0</td>\n",
              "      <td>0.0</td>\n",
              "      <td>Sem falha</td>\n",
              "    </tr>\n",
              "    <tr>\n",
              "      <th>1772</th>\n",
              "      <td>A37799</td>\n",
              "      <td>Alta</td>\n",
              "      <td>298.8</td>\n",
              "      <td>309.8</td>\n",
              "      <td>1563.0</td>\n",
              "      <td>38.8</td>\n",
              "      <td>65.0</td>\n",
              "      <td>0.0</td>\n",
              "      <td>Sem falha</td>\n",
              "    </tr>\n",
              "    <tr>\n",
              "      <th>3695</th>\n",
              "      <td>M16739</td>\n",
              "      <td>Média</td>\n",
              "      <td>298.2</td>\n",
              "      <td>307.7</td>\n",
              "      <td>1608.0</td>\n",
              "      <td>33.8</td>\n",
              "      <td>106.0</td>\n",
              "      <td>0.0</td>\n",
              "      <td>Sem falha</td>\n",
              "    </tr>\n",
              "    <tr>\n",
              "      <th>6223</th>\n",
              "      <td>A38486</td>\n",
              "      <td>Alta</td>\n",
              "      <td>297.2</td>\n",
              "      <td>308.1</td>\n",
              "      <td>1770.0</td>\n",
              "      <td>27.2</td>\n",
              "      <td>140.0</td>\n",
              "      <td>0.0</td>\n",
              "      <td>Sem falha</td>\n",
              "    </tr>\n",
              "  </tbody>\n",
              "</table>\n",
              "</div>\n",
              "      <button class=\"colab-df-convert\" onclick=\"convertToInteractive('df-a07ee2e7-93c7-4181-9409-b553ef3f010f')\"\n",
              "              title=\"Convert this dataframe to an interactive table.\"\n",
              "              style=\"display:none;\">\n",
              "        \n",
              "  <svg xmlns=\"http://www.w3.org/2000/svg\" height=\"24px\"viewBox=\"0 0 24 24\"\n",
              "       width=\"24px\">\n",
              "    <path d=\"M0 0h24v24H0V0z\" fill=\"none\"/>\n",
              "    <path d=\"M18.56 5.44l.94 2.06.94-2.06 2.06-.94-2.06-.94-.94-2.06-.94 2.06-2.06.94zm-11 1L8.5 8.5l.94-2.06 2.06-.94-2.06-.94L8.5 2.5l-.94 2.06-2.06.94zm10 10l.94 2.06.94-2.06 2.06-.94-2.06-.94-.94-2.06-.94 2.06-2.06.94z\"/><path d=\"M17.41 7.96l-1.37-1.37c-.4-.4-.92-.59-1.43-.59-.52 0-1.04.2-1.43.59L10.3 9.45l-7.72 7.72c-.78.78-.78 2.05 0 2.83L4 21.41c.39.39.9.59 1.41.59.51 0 1.02-.2 1.41-.59l7.78-7.78 2.81-2.81c.8-.78.8-2.07 0-2.86zM5.41 20L4 18.59l7.72-7.72 1.47 1.35L5.41 20z\"/>\n",
              "  </svg>\n",
              "      </button>\n",
              "      \n",
              "  <style>\n",
              "    .colab-df-container {\n",
              "      display:flex;\n",
              "      flex-wrap:wrap;\n",
              "      gap: 12px;\n",
              "    }\n",
              "\n",
              "    .colab-df-convert {\n",
              "      background-color: #E8F0FE;\n",
              "      border: none;\n",
              "      border-radius: 50%;\n",
              "      cursor: pointer;\n",
              "      display: none;\n",
              "      fill: #1967D2;\n",
              "      height: 32px;\n",
              "      padding: 0 0 0 0;\n",
              "      width: 32px;\n",
              "    }\n",
              "\n",
              "    .colab-df-convert:hover {\n",
              "      background-color: #E2EBFA;\n",
              "      box-shadow: 0px 1px 2px rgba(60, 64, 67, 0.3), 0px 1px 3px 1px rgba(60, 64, 67, 0.15);\n",
              "      fill: #174EA6;\n",
              "    }\n",
              "\n",
              "    [theme=dark] .colab-df-convert {\n",
              "      background-color: #3B4455;\n",
              "      fill: #D2E3FC;\n",
              "    }\n",
              "\n",
              "    [theme=dark] .colab-df-convert:hover {\n",
              "      background-color: #434B5C;\n",
              "      box-shadow: 0px 1px 3px 1px rgba(0, 0, 0, 0.15);\n",
              "      filter: drop-shadow(0px 1px 2px rgba(0, 0, 0, 0.3));\n",
              "      fill: #FFFFFF;\n",
              "    }\n",
              "  </style>\n",
              "\n",
              "      <script>\n",
              "        const buttonEl =\n",
              "          document.querySelector('#df-a07ee2e7-93c7-4181-9409-b553ef3f010f button.colab-df-convert');\n",
              "        buttonEl.style.display =\n",
              "          google.colab.kernel.accessAllowed ? 'block' : 'none';\n",
              "\n",
              "        async function convertToInteractive(key) {\n",
              "          const element = document.querySelector('#df-a07ee2e7-93c7-4181-9409-b553ef3f010f');\n",
              "          const dataTable =\n",
              "            await google.colab.kernel.invokeFunction('convertToInteractive',\n",
              "                                                     [key], {});\n",
              "          if (!dataTable) return;\n",
              "\n",
              "          const docLinkHtml = 'Like what you see? Visit the ' +\n",
              "            '<a target=\"_blank\" href=https://colab.research.google.com/notebooks/data_table.ipynb>data table notebook</a>'\n",
              "            + ' to learn more about interactive tables.';\n",
              "          element.innerHTML = '';\n",
              "          dataTable['output_type'] = 'display_data';\n",
              "          await google.colab.output.renderOutput(dataTable, element);\n",
              "          const docLink = document.createElement('div');\n",
              "          docLink.innerHTML = docLinkHtml;\n",
              "          element.appendChild(docLink);\n",
              "        }\n",
              "      </script>\n",
              "    </div>\n",
              "  </div>\n",
              "  "
            ]
          },
          "metadata": {},
          "execution_count": 30
        }
      ]
    },
    {
      "cell_type": "markdown",
      "source": [
        "**Dados estatísticos**"
      ],
      "metadata": {
        "id": "5WFIvNdoCYK5"
      }
    },
    {
      "cell_type": "code",
      "source": [
        "df.describe()"
      ],
      "metadata": {
        "colab": {
          "base_uri": "https://localhost:8080/",
          "height": 300
        },
        "id": "IJ4DLVHzsc8o",
        "outputId": "6efe657d-5f80-4435-d79e-61e2dd1a0772"
      },
      "execution_count": 31,
      "outputs": [
        {
          "output_type": "execute_result",
          "data": {
            "text/plain": [
              "       Temperatura ar [K]  Temperatura processo [K]  Velocidade rotação [rpm]  \\\n",
              "count         9973.000000               9973.000000               9973.000000   \n",
              "mean           300.003259                310.004031               1538.893212   \n",
              "std              2.000548                  1.483692                179.412171   \n",
              "min            295.300000                305.700000               1168.000000   \n",
              "25%            298.300000                308.800000               1423.000000   \n",
              "50%            300.100000                310.100000               1503.000000   \n",
              "75%            301.500000                311.100000               1612.000000   \n",
              "max            304.500000                313.800000               2886.000000   \n",
              "\n",
              "       Torque [Nm]  Desgaste [min]        Falha  \n",
              "count  9973.000000     9973.000000  9973.000000  \n",
              "mean     39.978993      107.921087     0.033089  \n",
              "std       9.966805       63.649152     0.178879  \n",
              "min       3.800000        0.000000     0.000000  \n",
              "25%      33.200000       53.000000     0.000000  \n",
              "50%      40.100000      108.000000     0.000000  \n",
              "75%      46.700000      162.000000     0.000000  \n",
              "max      76.600000      253.000000     1.000000  "
            ],
            "text/html": [
              "\n",
              "  <div id=\"df-fe35746e-450e-4421-baf4-a14edcefa848\">\n",
              "    <div class=\"colab-df-container\">\n",
              "      <div>\n",
              "<style scoped>\n",
              "    .dataframe tbody tr th:only-of-type {\n",
              "        vertical-align: middle;\n",
              "    }\n",
              "\n",
              "    .dataframe tbody tr th {\n",
              "        vertical-align: top;\n",
              "    }\n",
              "\n",
              "    .dataframe thead th {\n",
              "        text-align: right;\n",
              "    }\n",
              "</style>\n",
              "<table border=\"1\" class=\"dataframe\">\n",
              "  <thead>\n",
              "    <tr style=\"text-align: right;\">\n",
              "      <th></th>\n",
              "      <th>Temperatura ar [K]</th>\n",
              "      <th>Temperatura processo [K]</th>\n",
              "      <th>Velocidade rotação [rpm]</th>\n",
              "      <th>Torque [Nm]</th>\n",
              "      <th>Desgaste [min]</th>\n",
              "      <th>Falha</th>\n",
              "    </tr>\n",
              "  </thead>\n",
              "  <tbody>\n",
              "    <tr>\n",
              "      <th>count</th>\n",
              "      <td>9973.000000</td>\n",
              "      <td>9973.000000</td>\n",
              "      <td>9973.000000</td>\n",
              "      <td>9973.000000</td>\n",
              "      <td>9973.000000</td>\n",
              "      <td>9973.000000</td>\n",
              "    </tr>\n",
              "    <tr>\n",
              "      <th>mean</th>\n",
              "      <td>300.003259</td>\n",
              "      <td>310.004031</td>\n",
              "      <td>1538.893212</td>\n",
              "      <td>39.978993</td>\n",
              "      <td>107.921087</td>\n",
              "      <td>0.033089</td>\n",
              "    </tr>\n",
              "    <tr>\n",
              "      <th>std</th>\n",
              "      <td>2.000548</td>\n",
              "      <td>1.483692</td>\n",
              "      <td>179.412171</td>\n",
              "      <td>9.966805</td>\n",
              "      <td>63.649152</td>\n",
              "      <td>0.178879</td>\n",
              "    </tr>\n",
              "    <tr>\n",
              "      <th>min</th>\n",
              "      <td>295.300000</td>\n",
              "      <td>305.700000</td>\n",
              "      <td>1168.000000</td>\n",
              "      <td>3.800000</td>\n",
              "      <td>0.000000</td>\n",
              "      <td>0.000000</td>\n",
              "    </tr>\n",
              "    <tr>\n",
              "      <th>25%</th>\n",
              "      <td>298.300000</td>\n",
              "      <td>308.800000</td>\n",
              "      <td>1423.000000</td>\n",
              "      <td>33.200000</td>\n",
              "      <td>53.000000</td>\n",
              "      <td>0.000000</td>\n",
              "    </tr>\n",
              "    <tr>\n",
              "      <th>50%</th>\n",
              "      <td>300.100000</td>\n",
              "      <td>310.100000</td>\n",
              "      <td>1503.000000</td>\n",
              "      <td>40.100000</td>\n",
              "      <td>108.000000</td>\n",
              "      <td>0.000000</td>\n",
              "    </tr>\n",
              "    <tr>\n",
              "      <th>75%</th>\n",
              "      <td>301.500000</td>\n",
              "      <td>311.100000</td>\n",
              "      <td>1612.000000</td>\n",
              "      <td>46.700000</td>\n",
              "      <td>162.000000</td>\n",
              "      <td>0.000000</td>\n",
              "    </tr>\n",
              "    <tr>\n",
              "      <th>max</th>\n",
              "      <td>304.500000</td>\n",
              "      <td>313.800000</td>\n",
              "      <td>2886.000000</td>\n",
              "      <td>76.600000</td>\n",
              "      <td>253.000000</td>\n",
              "      <td>1.000000</td>\n",
              "    </tr>\n",
              "  </tbody>\n",
              "</table>\n",
              "</div>\n",
              "      <button class=\"colab-df-convert\" onclick=\"convertToInteractive('df-fe35746e-450e-4421-baf4-a14edcefa848')\"\n",
              "              title=\"Convert this dataframe to an interactive table.\"\n",
              "              style=\"display:none;\">\n",
              "        \n",
              "  <svg xmlns=\"http://www.w3.org/2000/svg\" height=\"24px\"viewBox=\"0 0 24 24\"\n",
              "       width=\"24px\">\n",
              "    <path d=\"M0 0h24v24H0V0z\" fill=\"none\"/>\n",
              "    <path d=\"M18.56 5.44l.94 2.06.94-2.06 2.06-.94-2.06-.94-.94-2.06-.94 2.06-2.06.94zm-11 1L8.5 8.5l.94-2.06 2.06-.94-2.06-.94L8.5 2.5l-.94 2.06-2.06.94zm10 10l.94 2.06.94-2.06 2.06-.94-2.06-.94-.94-2.06-.94 2.06-2.06.94z\"/><path d=\"M17.41 7.96l-1.37-1.37c-.4-.4-.92-.59-1.43-.59-.52 0-1.04.2-1.43.59L10.3 9.45l-7.72 7.72c-.78.78-.78 2.05 0 2.83L4 21.41c.39.39.9.59 1.41.59.51 0 1.02-.2 1.41-.59l7.78-7.78 2.81-2.81c.8-.78.8-2.07 0-2.86zM5.41 20L4 18.59l7.72-7.72 1.47 1.35L5.41 20z\"/>\n",
              "  </svg>\n",
              "      </button>\n",
              "      \n",
              "  <style>\n",
              "    .colab-df-container {\n",
              "      display:flex;\n",
              "      flex-wrap:wrap;\n",
              "      gap: 12px;\n",
              "    }\n",
              "\n",
              "    .colab-df-convert {\n",
              "      background-color: #E8F0FE;\n",
              "      border: none;\n",
              "      border-radius: 50%;\n",
              "      cursor: pointer;\n",
              "      display: none;\n",
              "      fill: #1967D2;\n",
              "      height: 32px;\n",
              "      padding: 0 0 0 0;\n",
              "      width: 32px;\n",
              "    }\n",
              "\n",
              "    .colab-df-convert:hover {\n",
              "      background-color: #E2EBFA;\n",
              "      box-shadow: 0px 1px 2px rgba(60, 64, 67, 0.3), 0px 1px 3px 1px rgba(60, 64, 67, 0.15);\n",
              "      fill: #174EA6;\n",
              "    }\n",
              "\n",
              "    [theme=dark] .colab-df-convert {\n",
              "      background-color: #3B4455;\n",
              "      fill: #D2E3FC;\n",
              "    }\n",
              "\n",
              "    [theme=dark] .colab-df-convert:hover {\n",
              "      background-color: #434B5C;\n",
              "      box-shadow: 0px 1px 3px 1px rgba(0, 0, 0, 0.15);\n",
              "      filter: drop-shadow(0px 1px 2px rgba(0, 0, 0, 0.3));\n",
              "      fill: #FFFFFF;\n",
              "    }\n",
              "  </style>\n",
              "\n",
              "      <script>\n",
              "        const buttonEl =\n",
              "          document.querySelector('#df-fe35746e-450e-4421-baf4-a14edcefa848 button.colab-df-convert');\n",
              "        buttonEl.style.display =\n",
              "          google.colab.kernel.accessAllowed ? 'block' : 'none';\n",
              "\n",
              "        async function convertToInteractive(key) {\n",
              "          const element = document.querySelector('#df-fe35746e-450e-4421-baf4-a14edcefa848');\n",
              "          const dataTable =\n",
              "            await google.colab.kernel.invokeFunction('convertToInteractive',\n",
              "                                                     [key], {});\n",
              "          if (!dataTable) return;\n",
              "\n",
              "          const docLinkHtml = 'Like what you see? Visit the ' +\n",
              "            '<a target=\"_blank\" href=https://colab.research.google.com/notebooks/data_table.ipynb>data table notebook</a>'\n",
              "            + ' to learn more about interactive tables.';\n",
              "          element.innerHTML = '';\n",
              "          dataTable['output_type'] = 'display_data';\n",
              "          await google.colab.output.renderOutput(dataTable, element);\n",
              "          const docLink = document.createElement('div');\n",
              "          docLink.innerHTML = docLinkHtml;\n",
              "          element.appendChild(docLink);\n",
              "        }\n",
              "      </script>\n",
              "    </div>\n",
              "  </div>\n",
              "  "
            ]
          },
          "metadata": {},
          "execution_count": 31
        }
      ]
    },
    {
      "cell_type": "markdown",
      "source": [
        "**Correlação entre variáveis**\n",
        "\n",
        "*   A temperatura do ar tem uma **forte correlação** com a temperatura do processo\n",
        "*   O torque possui uma **fraca correlação** com a velocidade de rotação\n",
        "\n"
      ],
      "metadata": {
        "id": "0dzlctby_nfF"
      }
    },
    {
      "cell_type": "code",
      "source": [
        "sns.set_style(\"darkgrid\")\n",
        "ax = plt.subplots(figsize=(8, 7))\n",
        "sns.heatmap(df.corr(), annot=True, cmap='BuPu');"
      ],
      "metadata": {
        "id": "4qdEo7MDg2zW",
        "colab": {
          "base_uri": "https://localhost:8080/",
          "height": 550
        },
        "outputId": "edb5de5e-e269-4417-d75b-12e3800e0189"
      },
      "execution_count": 32,
      "outputs": [
        {
          "output_type": "display_data",
          "data": {
            "text/plain": [
              "<Figure size 576x504 with 2 Axes>"
            ],
            "image/png": "[encoded data removed]"
          },
          "metadata": {}
        }
      ]
    },
    {
      "cell_type": "code",
      "source": [
        "falhas_tot = df['Falha'].value_counts(normalize=True)\n",
        "falhas_tot"
      ],
      "metadata": {
        "colab": {
          "base_uri": "https://localhost:8080/"
        },
        "id": "EyCrF__P717T",
        "outputId": "782a924f-2a09-45fa-958d-6c22850fd7ed"
      },
      "execution_count": 33,
      "outputs": [
        {
          "output_type": "execute_result",
          "data": {
            "text/plain": [
              "0.0    0.966911\n",
              "1.0    0.033089\n",
              "Name: Falha, dtype: float64"
            ]
          },
          "metadata": {},
          "execution_count": 33
        }
      ]
    },
    {
      "cell_type": "markdown",
      "source": [
        "**Visualização dos equipamentos que falharam e não falharam**"
      ],
      "metadata": {
        "id": "gdUIWeXiHBcV"
      }
    },
    {
      "cell_type": "code",
      "source": [
        "plt.bar(x=falhas_tot.index, height=falhas_tot)\n",
        "plt.xticks([0,1], [\"sem falha\", \"com falha\"])\n",
        "plt.ylabel(\"Total de equipamentos\")\n",
        "plt.title('Contagem')\n"
      ],
      "metadata": {
        "colab": {
          "base_uri": "https://localhost:8080/",
          "height": 299
        },
        "id": "j40VpNHMsc3u",
        "outputId": "e3c6bc36-7a0b-4210-a10b-c76bceee22d5"
      },
      "execution_count": 34,
      "outputs": [
        {
          "output_type": "execute_result",
          "data": {
            "text/plain": [
              "Text(0.5, 1.0, 'Contagem')"
            ]
          },
          "metadata": {},
          "execution_count": 34
        },
        {
          "output_type": "display_data",
          "data": {
            "text/plain": [
              "<Figure size 432x288 with 1 Axes>"
            ],
            "image/png": "[encoded data removed]"
          },
          "metadata": {}
        }
      ]
    },
    {
      "cell_type": "markdown",
      "source": [
        "**Análise dos dados**\n",
        "\n",
        "*   Como mostrado no gráfico abaixo, mais de 30% das falhas foram por **superaquecimento**.\n",
        "\n",
        "\n"
      ],
      "metadata": {
        "id": "kaKO4EZqfedF"
      }
    },
    {
      "cell_type": "code",
      "source": [
        "falha_df = df.loc[df['Falha']==1]\n",
        "sem_falha_df =  df.loc[df['Falha']==0]\n",
        "\n",
        "falhas_tipo = falha_df['Tipo falha'].value_counts(normalize=True)\n",
        "\n",
        "plt.barh(y=falhas_tipo.index, width=falhas_tipo)\n",
        "plt.title(\"Frequencia das falhas\")\n",
        "\n"
      ],
      "metadata": {
        "id": "PV7f-wZxscwY",
        "colab": {
          "base_uri": "https://localhost:8080/",
          "height": 299
        },
        "outputId": "c3e05fd4-9594-4c34-8b4d-79f6fea29216"
      },
      "execution_count": 35,
      "outputs": [
        {
          "output_type": "execute_result",
          "data": {
            "text/plain": [
              "Text(0.5, 1.0, 'Frequencia das falhas')"
            ]
          },
          "metadata": {},
          "execution_count": 35
        },
        {
          "output_type": "display_data",
          "data": {
            "text/plain": [
              "<Figure size 432x288 with 1 Axes>"
            ],
            "image/png": "[encoded data removed]"
          },
          "metadata": {}
        }
      ]
    },
    {
      "cell_type": "markdown",
      "source": [
        "**Relação entre falhas e a qualidade do equipamento**\n",
        "\n",
        "*   Os equipamentos com qualidade baixa são os que mais falham\n",
        "\n",
        "\n"
      ],
      "metadata": {
        "id": "7m_syvbzhBQa"
      }
    },
    {
      "cell_type": "code",
      "source": [
        "falha_qualidade = df.groupby('Qualidade')['Falha'].agg(['sum', 'count', 'mean'])\n",
        "falha_qualidade"
      ],
      "metadata": {
        "id": "XvXR1lNosctg",
        "colab": {
          "base_uri": "https://localhost:8080/",
          "height": 175
        },
        "outputId": "c99e33ba-b98f-46b7-ad12-a0a96d3207a1"
      },
      "execution_count": 36,
      "outputs": [
        {
          "output_type": "execute_result",
          "data": {
            "text/plain": [
              "             sum  count      mean\n",
              "Qualidade                        \n",
              "Alta        20.0    998  0.020040\n",
              "Baixa      231.0   5984  0.038603\n",
              "Média       79.0   2991  0.026413"
            ],
            "text/html": [
              "\n",
              "  <div id=\"df-d860283f-b657-41d7-9740-5823b6239ca9\">\n",
              "    <div class=\"colab-df-container\">\n",
              "      <div>\n",
              "<style scoped>\n",
              "    .dataframe tbody tr th:only-of-type {\n",
              "        vertical-align: middle;\n",
              "    }\n",
              "\n",
              "    .dataframe tbody tr th {\n",
              "        vertical-align: top;\n",
              "    }\n",
              "\n",
              "    .dataframe thead th {\n",
              "        text-align: right;\n",
              "    }\n",
              "</style>\n",
              "<table border=\"1\" class=\"dataframe\">\n",
              "  <thead>\n",
              "    <tr style=\"text-align: right;\">\n",
              "      <th></th>\n",
              "      <th>sum</th>\n",
              "      <th>count</th>\n",
              "      <th>mean</th>\n",
              "    </tr>\n",
              "    <tr>\n",
              "      <th>Qualidade</th>\n",
              "      <th></th>\n",
              "      <th></th>\n",
              "      <th></th>\n",
              "    </tr>\n",
              "  </thead>\n",
              "  <tbody>\n",
              "    <tr>\n",
              "      <th>Alta</th>\n",
              "      <td>20.0</td>\n",
              "      <td>998</td>\n",
              "      <td>0.020040</td>\n",
              "    </tr>\n",
              "    <tr>\n",
              "      <th>Baixa</th>\n",
              "      <td>231.0</td>\n",
              "      <td>5984</td>\n",
              "      <td>0.038603</td>\n",
              "    </tr>\n",
              "    <tr>\n",
              "      <th>Média</th>\n",
              "      <td>79.0</td>\n",
              "      <td>2991</td>\n",
              "      <td>0.026413</td>\n",
              "    </tr>\n",
              "  </tbody>\n",
              "</table>\n",
              "</div>\n",
              "      <button class=\"colab-df-convert\" onclick=\"convertToInteractive('df-d860283f-b657-41d7-9740-5823b6239ca9')\"\n",
              "              title=\"Convert this dataframe to an interactive table.\"\n",
              "              style=\"display:none;\">\n",
              "        \n",
              "  <svg xmlns=\"http://www.w3.org/2000/svg\" height=\"24px\"viewBox=\"0 0 24 24\"\n",
              "       width=\"24px\">\n",
              "    <path d=\"M0 0h24v24H0V0z\" fill=\"none\"/>\n",
              "    <path d=\"M18.56 5.44l.94 2.06.94-2.06 2.06-.94-2.06-.94-.94-2.06-.94 2.06-2.06.94zm-11 1L8.5 8.5l.94-2.06 2.06-.94-2.06-.94L8.5 2.5l-.94 2.06-2.06.94zm10 10l.94 2.06.94-2.06 2.06-.94-2.06-.94-.94-2.06-.94 2.06-2.06.94z\"/><path d=\"M17.41 7.96l-1.37-1.37c-.4-.4-.92-.59-1.43-.59-.52 0-1.04.2-1.43.59L10.3 9.45l-7.72 7.72c-.78.78-.78 2.05 0 2.83L4 21.41c.39.39.9.59 1.41.59.51 0 1.02-.2 1.41-.59l7.78-7.78 2.81-2.81c.8-.78.8-2.07 0-2.86zM5.41 20L4 18.59l7.72-7.72 1.47 1.35L5.41 20z\"/>\n",
              "  </svg>\n",
              "      </button>\n",
              "      \n",
              "  <style>\n",
              "    .colab-df-container {\n",
              "      display:flex;\n",
              "      flex-wrap:wrap;\n",
              "      gap: 12px;\n",
              "    }\n",
              "\n",
              "    .colab-df-convert {\n",
              "      background-color: #E8F0FE;\n",
              "      border: none;\n",
              "      border-radius: 50%;\n",
              "      cursor: pointer;\n",
              "      display: none;\n",
              "      fill: #1967D2;\n",
              "      height: 32px;\n",
              "      padding: 0 0 0 0;\n",
              "      width: 32px;\n",
              "    }\n",
              "\n",
              "    .colab-df-convert:hover {\n",
              "      background-color: #E2EBFA;\n",
              "      box-shadow: 0px 1px 2px rgba(60, 64, 67, 0.3), 0px 1px 3px 1px rgba(60, 64, 67, 0.15);\n",
              "      fill: #174EA6;\n",
              "    }\n",
              "\n",
              "    [theme=dark] .colab-df-convert {\n",
              "      background-color: #3B4455;\n",
              "      fill: #D2E3FC;\n",
              "    }\n",
              "\n",
              "    [theme=dark] .colab-df-convert:hover {\n",
              "      background-color: #434B5C;\n",
              "      box-shadow: 0px 1px 3px 1px rgba(0, 0, 0, 0.15);\n",
              "      filter: drop-shadow(0px 1px 2px rgba(0, 0, 0, 0.3));\n",
              "      fill: #FFFFFF;\n",
              "    }\n",
              "  </style>\n",
              "\n",
              "      <script>\n",
              "        const buttonEl =\n",
              "          document.querySelector('#df-d860283f-b657-41d7-9740-5823b6239ca9 button.colab-df-convert');\n",
              "        buttonEl.style.display =\n",
              "          google.colab.kernel.accessAllowed ? 'block' : 'none';\n",
              "\n",
              "        async function convertToInteractive(key) {\n",
              "          const element = document.querySelector('#df-d860283f-b657-41d7-9740-5823b6239ca9');\n",
              "          const dataTable =\n",
              "            await google.colab.kernel.invokeFunction('convertToInteractive',\n",
              "                                                     [key], {});\n",
              "          if (!dataTable) return;\n",
              "\n",
              "          const docLinkHtml = 'Like what you see? Visit the ' +\n",
              "            '<a target=\"_blank\" href=https://colab.research.google.com/notebooks/data_table.ipynb>data table notebook</a>'\n",
              "            + ' to learn more about interactive tables.';\n",
              "          element.innerHTML = '';\n",
              "          dataTable['output_type'] = 'display_data';\n",
              "          await google.colab.output.renderOutput(dataTable, element);\n",
              "          const docLink = document.createElement('div');\n",
              "          docLink.innerHTML = docLinkHtml;\n",
              "          element.appendChild(docLink);\n",
              "        }\n",
              "      </script>\n",
              "    </div>\n",
              "  </div>\n",
              "  "
            ]
          },
          "metadata": {},
          "execution_count": 36
        }
      ]
    },
    {
      "cell_type": "markdown",
      "source": [
        "**Qual o total de componentes possuem qualidade alta, média, e baixa?**"
      ],
      "metadata": {
        "id": "D_F_FQCD7uNb"
      }
    },
    {
      "cell_type": "code",
      "source": [
        "ax = plt.figure(figsize=(15,10))\n",
        "ax = plt.subplot(1,3,1)\n",
        "ax = plt.pie(falha_qualidade['count'], labels=falha_qualidade.index, autopct='%.0f%%')\n",
        "plt.title(\"Total de componentes por qualidade\")\n",
        "plt.show()"
      ],
      "metadata": {
        "id": "D9K1m-Gcg27U",
        "colab": {
          "base_uri": "https://localhost:8080/",
          "height": 293
        },
        "outputId": "f1769101-81a2-45c4-9ebe-6b440f6cf845"
      },
      "execution_count": 37,
      "outputs": [
        {
          "output_type": "display_data",
          "data": {
            "text/plain": [
              "<Figure size 1080x720 with 1 Axes>"
            ],
            "image/png": "[encoded data removed]"
          },
          "metadata": {}
        }
      ]
    },
    {
      "cell_type": "markdown",
      "source": [
        "**Qual a relação entre falha e qualidade do componente?**"
      ],
      "metadata": {
        "id": "S2wnSGjP8Ffq"
      }
    },
    {
      "cell_type": "code",
      "source": [
        "ax = plt.figure(figsize=(15,10))\n",
        "ax = plt.subplot(1,3,2)\n",
        "ax = plt.pie(falha_qualidade['sum'], labels=falha_qualidade.index, autopct='%.0f%%')\n",
        "plt.title(\"Total de falhas por qualidade\")\n",
        "plt.show()"
      ],
      "metadata": {
        "id": "z6crM-_Xg247",
        "colab": {
          "base_uri": "https://localhost:8080/",
          "height": 293
        },
        "outputId": "ae672ddc-919b-442a-9cee-b6722042415a"
      },
      "execution_count": 38,
      "outputs": [
        {
          "output_type": "display_data",
          "data": {
            "text/plain": [
              "<Figure size 1080x720 with 1 Axes>"
            ],
            "image/png": "[encoded data removed]"
          },
          "metadata": {}
        }
      ]
    },
    {
      "cell_type": "markdown",
      "source": [
        "**A qualidade dos componentes tem influência na falha do equipamento?**"
      ],
      "metadata": {
        "id": "-iYMsbaX7Oo5"
      }
    },
    {
      "cell_type": "code",
      "source": [
        "ax = plt.figure(figsize=(20,5))\n",
        "ax = plt.subplot(1,3,3)\n",
        "ax = plt.bar(height=falha_qualidade['mean'], x=falha_qualidade.index)\n",
        "plt.title(\"Média de falhas por qualidade\")\n",
        "plt.show()"
      ],
      "metadata": {
        "id": "yd-yFrs8g22S",
        "colab": {
          "base_uri": "https://localhost:8080/",
          "height": 336
        },
        "outputId": "6fa03653-11af-4cff-9dfb-5d63ce4ee380"
      },
      "execution_count": 39,
      "outputs": [
        {
          "output_type": "display_data",
          "data": {
            "text/plain": [
              "<Figure size 1440x360 with 1 Axes>"
            ],
            "image/png": "[encoded data removed]"
          },
          "metadata": {}
        }
      ]
    },
    {
      "cell_type": "markdown",
      "source": [
        "**Análise com base na diferença entre as temperaturas**"
      ],
      "metadata": {
        "id": "Tr2TyRwiYKG7"
      }
    },
    {
      "cell_type": "code",
      "source": [
        "temp_var = df[['Temperatura ar [K]', 'Temperatura processo [K]', 'Falha']]\n",
        "temp_var['var_temp'] = temp_var['Temperatura processo [K]'] - temp_var['Temperatura ar [K]']\n",
        "\n",
        "temp_com_falha = temp_var[temp_var['Falha'] ==1]\n",
        "temp_sem_falha = temp_var[temp_var['Falha'] ==0]\n",
        "\n"
      ],
      "metadata": {
        "id": "i42H6cNgg2p0"
      },
      "execution_count": 40,
      "outputs": []
    },
    {
      "cell_type": "markdown",
      "source": [
        "**Total de componentes que não falharam**\n",
        "\n",
        "\n",
        "\n",
        "\n"
      ],
      "metadata": {
        "id": "bquvxl7KQEwG"
      }
    },
    {
      "cell_type": "code",
      "source": [
        "sns.histplot(data=temp_sem_falha['Temperatura processo [K]'], bins=10, kde=True,  color='green' )"
      ],
      "metadata": {
        "colab": {
          "base_uri": "https://localhost:8080/",
          "height": 297
        },
        "id": "r4yJuVmi9G-e",
        "outputId": "0ea6f921-29b1-464e-da96-b38807e4f4ea"
      },
      "execution_count": 41,
      "outputs": [
        {
          "output_type": "execute_result",
          "data": {
            "text/plain": [
              "<matplotlib.axes._subplots.AxesSubplot at 0x7f026946f410>"
            ]
          },
          "metadata": {},
          "execution_count": 41
        },
        {
          "output_type": "display_data",
          "data": {
            "text/plain": [
              "<Figure size 432x288 with 1 Axes>"
            ],
            "image/png": "[encoded data removed]"
          },
          "metadata": {}
        }
      ]
    },
    {
      "cell_type": "markdown",
      "source": [
        "**Total de componentes que falharam**\n",
        "\n",
        "\n",
        "1.   A partir de 310 graus Kelvin os equipamentos tendem a falhar mais.\n",
        "\n",
        "\n",
        "\n",
        "\n",
        "\n",
        "\n"
      ],
      "metadata": {
        "id": "c6qcie4TQieR"
      }
    },
    {
      "cell_type": "code",
      "source": [
        "sns.histplot(data=temp_com_falha['Temperatura processo [K]'], bins=10, kde=True,  color='red' )\n"
      ],
      "metadata": {
        "colab": {
          "base_uri": "https://localhost:8080/",
          "height": 297
        },
        "id": "MSV7uL349G7z",
        "outputId": "6d6ea276-519d-48fa-ee2b-2e338dd140fc"
      },
      "execution_count": 42,
      "outputs": [
        {
          "output_type": "execute_result",
          "data": {
            "text/plain": [
              "<matplotlib.axes._subplots.AxesSubplot at 0x7f0266622d50>"
            ]
          },
          "metadata": {},
          "execution_count": 42
        },
        {
          "output_type": "display_data",
          "data": {
            "text/plain": [
              "<Figure size 432x288 with 1 Axes>"
            ],
            "image/png": "[encoded data removed]"
          },
          "metadata": {}
        }
      ]
    },
    {
      "cell_type": "markdown",
      "source": [
        "**Relação entre torque, velocidade de rotação e falha**\n",
        "\n",
        "1.   Quando o torque é alto e a velocidade é baixa, existe uma tendência a falhas\n",
        "2.   Quando o torque é baixo e a velocidade é  alta, também apresenta tendência a falhas\n",
        "\n"
      ],
      "metadata": {
        "id": "zM-k4ENZfw50"
      }
    },
    {
      "cell_type": "code",
      "source": [
        "plt.figure(figsize=(8,6))\n",
        "sns.scatterplot(data=df, x='Velocidade rotação [rpm]', y='Torque [Nm]', palette='deep', hue='Falha')"
      ],
      "metadata": {
        "colab": {
          "base_uri": "https://localhost:8080/",
          "height": 409
        },
        "id": "u1AcfXTPcFeg",
        "outputId": "d4d8fc51-e4a0-4b3e-edf0-e560a48e8cb2"
      },
      "execution_count": 43,
      "outputs": [
        {
          "output_type": "execute_result",
          "data": {
            "text/plain": [
              "<matplotlib.axes._subplots.AxesSubplot at 0x7f0263d78c50>"
            ]
          },
          "metadata": {},
          "execution_count": 43
        },
        {
          "output_type": "display_data",
          "data": {
            "text/plain": [
              "<Figure size 576x432 with 1 Axes>"
            ],
            "image/png": "[encoded data removed]"
          },
          "metadata": {}
        }
      ]
    },
    {
      "cell_type": "markdown",
      "source": [
        "**Feature Engeneering**\n",
        "\n",
        "*   Criando um pipeline de dados para otimização escalável para manipulação dos dados.\n",
        "\n",
        "\n"
      ],
      "metadata": {
        "id": "vySqD5MuL358"
      }
    },
    {
      "cell_type": "code",
      "source": [
        "def pipeline(df):\n",
        "  df['var_temp'] = df_treino['Temperatura processo [K]'] - df_treino['Temperatura ar [K]']\n",
        "\n",
        "  dummy = pd.get_dummies(df['Qualidade'])\n",
        "  df=pd.concat([df.drop('Qualidade', axis=1), dummy], axis=1)\n",
        "  \n",
        "  return df"
      ],
      "metadata": {
        "id": "7FPWwiQuPEjP"
      },
      "execution_count": 44,
      "outputs": []
    },
    {
      "cell_type": "markdown",
      "source": [
        "**Aplicando a função na base de dados original**"
      ],
      "metadata": {
        "id": "fX6rLa_f_Z0C"
      }
    },
    {
      "cell_type": "code",
      "source": [
        "df_treino = pipeline(df_treino)\n",
        "df_teste = pipeline(df_teste)\n",
        "df_treino.head()"
      ],
      "metadata": {
        "colab": {
          "base_uri": "https://localhost:8080/",
          "height": 206
        },
        "id": "NNcuhjomPEaN",
        "outputId": "e2d5f1cb-f08d-4c44-930c-f53e22d399b1"
      },
      "execution_count": 45,
      "outputs": [
        {
          "output_type": "execute_result",
          "data": {
            "text/plain": [
              "  ID Produto  Temperatura ar [K]  Temperatura processo [K]  \\\n",
              "0     B57099               298.5                     308.8   \n",
              "1     B50640               301.5                     310.3   \n",
              "2     B55178               300.9                     312.1   \n",
              "3     B51337               302.0                     310.5   \n",
              "4     B56278               297.3                     308.1   \n",
              "\n",
              "   Velocidade rotação [rpm]  Torque [Nm]  Desgaste [min]  Falha  \\\n",
              "0                    1305.0         58.7            26.0    0.0   \n",
              "1                    1415.0         41.6            28.0    0.0   \n",
              "2                    1359.0         51.7           146.0    0.0   \n",
              "3                    1263.0         60.6            90.0    1.0   \n",
              "4                    1468.0         49.8             0.0    0.0   \n",
              "\n",
              "         Tipo falha  var_temp  Alta  Baixa  Média  \n",
              "0         Sem falha      10.3     0      1      0  \n",
              "1         Sem falha       8.8     0      1      0  \n",
              "2         Sem falha      11.2     0      1      0  \n",
              "3  Superaquecimento       8.5     0      1      0  \n",
              "4         Sem falha      10.8     0      1      0  "
            ],
            "text/html": [
              "\n",
              "  <div id=\"df-13775481-cf61-4fb9-b539-0a8cfe45b740\">\n",
              "    <div class=\"colab-df-container\">\n",
              "      <div>\n",
              "<style scoped>\n",
              "    .dataframe tbody tr th:only-of-type {\n",
              "        vertical-align: middle;\n",
              "    }\n",
              "\n",
              "    .dataframe tbody tr th {\n",
              "        vertical-align: top;\n",
              "    }\n",
              "\n",
              "    .dataframe thead th {\n",
              "        text-align: right;\n",
              "    }\n",
              "</style>\n",
              "<table border=\"1\" class=\"dataframe\">\n",
              "  <thead>\n",
              "    <tr style=\"text-align: right;\">\n",
              "      <th></th>\n",
              "      <th>ID Produto</th>\n",
              "      <th>Temperatura ar [K]</th>\n",
              "      <th>Temperatura processo [K]</th>\n",
              "      <th>Velocidade rotação [rpm]</th>\n",
              "      <th>Torque [Nm]</th>\n",
              "      <th>Desgaste [min]</th>\n",
              "      <th>Falha</th>\n",
              "      <th>Tipo falha</th>\n",
              "      <th>var_temp</th>\n",
              "      <th>Alta</th>\n",
              "      <th>Baixa</th>\n",
              "      <th>Média</th>\n",
              "    </tr>\n",
              "  </thead>\n",
              "  <tbody>\n",
              "    <tr>\n",
              "      <th>0</th>\n",
              "      <td>B57099</td>\n",
              "      <td>298.5</td>\n",
              "      <td>308.8</td>\n",
              "      <td>1305.0</td>\n",
              "      <td>58.7</td>\n",
              "      <td>26.0</td>\n",
              "      <td>0.0</td>\n",
              "      <td>Sem falha</td>\n",
              "      <td>10.3</td>\n",
              "      <td>0</td>\n",
              "      <td>1</td>\n",
              "      <td>0</td>\n",
              "    </tr>\n",
              "    <tr>\n",
              "      <th>1</th>\n",
              "      <td>B50640</td>\n",
              "      <td>301.5</td>\n",
              "      <td>310.3</td>\n",
              "      <td>1415.0</td>\n",
              "      <td>41.6</td>\n",
              "      <td>28.0</td>\n",
              "      <td>0.0</td>\n",
              "      <td>Sem falha</td>\n",
              "      <td>8.8</td>\n",
              "      <td>0</td>\n",
              "      <td>1</td>\n",
              "      <td>0</td>\n",
              "    </tr>\n",
              "    <tr>\n",
              "      <th>2</th>\n",
              "      <td>B55178</td>\n",
              "      <td>300.9</td>\n",
              "      <td>312.1</td>\n",
              "      <td>1359.0</td>\n",
              "      <td>51.7</td>\n",
              "      <td>146.0</td>\n",
              "      <td>0.0</td>\n",
              "      <td>Sem falha</td>\n",
              "      <td>11.2</td>\n",
              "      <td>0</td>\n",
              "      <td>1</td>\n",
              "      <td>0</td>\n",
              "    </tr>\n",
              "    <tr>\n",
              "      <th>3</th>\n",
              "      <td>B51337</td>\n",
              "      <td>302.0</td>\n",
              "      <td>310.5</td>\n",
              "      <td>1263.0</td>\n",
              "      <td>60.6</td>\n",
              "      <td>90.0</td>\n",
              "      <td>1.0</td>\n",
              "      <td>Superaquecimento</td>\n",
              "      <td>8.5</td>\n",
              "      <td>0</td>\n",
              "      <td>1</td>\n",
              "      <td>0</td>\n",
              "    </tr>\n",
              "    <tr>\n",
              "      <th>4</th>\n",
              "      <td>B56278</td>\n",
              "      <td>297.3</td>\n",
              "      <td>308.1</td>\n",
              "      <td>1468.0</td>\n",
              "      <td>49.8</td>\n",
              "      <td>0.0</td>\n",
              "      <td>0.0</td>\n",
              "      <td>Sem falha</td>\n",
              "      <td>10.8</td>\n",
              "      <td>0</td>\n",
              "      <td>1</td>\n",
              "      <td>0</td>\n",
              "    </tr>\n",
              "  </tbody>\n",
              "</table>\n",
              "</div>\n",
              "      <button class=\"colab-df-convert\" onclick=\"convertToInteractive('df-13775481-cf61-4fb9-b539-0a8cfe45b740')\"\n",
              "              title=\"Convert this dataframe to an interactive table.\"\n",
              "              style=\"display:none;\">\n",
              "        \n",
              "  <svg xmlns=\"http://www.w3.org/2000/svg\" height=\"24px\"viewBox=\"0 0 24 24\"\n",
              "       width=\"24px\">\n",
              "    <path d=\"M0 0h24v24H0V0z\" fill=\"none\"/>\n",
              "    <path d=\"M18.56 5.44l.94 2.06.94-2.06 2.06-.94-2.06-.94-.94-2.06-.94 2.06-2.06.94zm-11 1L8.5 8.5l.94-2.06 2.06-.94-2.06-.94L8.5 2.5l-.94 2.06-2.06.94zm10 10l.94 2.06.94-2.06 2.06-.94-2.06-.94-.94-2.06-.94 2.06-2.06.94z\"/><path d=\"M17.41 7.96l-1.37-1.37c-.4-.4-.92-.59-1.43-.59-.52 0-1.04.2-1.43.59L10.3 9.45l-7.72 7.72c-.78.78-.78 2.05 0 2.83L4 21.41c.39.39.9.59 1.41.59.51 0 1.02-.2 1.41-.59l7.78-7.78 2.81-2.81c.8-.78.8-2.07 0-2.86zM5.41 20L4 18.59l7.72-7.72 1.47 1.35L5.41 20z\"/>\n",
              "  </svg>\n",
              "      </button>\n",
              "      \n",
              "  <style>\n",
              "    .colab-df-container {\n",
              "      display:flex;\n",
              "      flex-wrap:wrap;\n",
              "      gap: 12px;\n",
              "    }\n",
              "\n",
              "    .colab-df-convert {\n",
              "      background-color: #E8F0FE;\n",
              "      border: none;\n",
              "      border-radius: 50%;\n",
              "      cursor: pointer;\n",
              "      display: none;\n",
              "      fill: #1967D2;\n",
              "      height: 32px;\n",
              "      padding: 0 0 0 0;\n",
              "      width: 32px;\n",
              "    }\n",
              "\n",
              "    .colab-df-convert:hover {\n",
              "      background-color: #E2EBFA;\n",
              "      box-shadow: 0px 1px 2px rgba(60, 64, 67, 0.3), 0px 1px 3px 1px rgba(60, 64, 67, 0.15);\n",
              "      fill: #174EA6;\n",
              "    }\n",
              "\n",
              "    [theme=dark] .colab-df-convert {\n",
              "      background-color: #3B4455;\n",
              "      fill: #D2E3FC;\n",
              "    }\n",
              "\n",
              "    [theme=dark] .colab-df-convert:hover {\n",
              "      background-color: #434B5C;\n",
              "      box-shadow: 0px 1px 3px 1px rgba(0, 0, 0, 0.15);\n",
              "      filter: drop-shadow(0px 1px 2px rgba(0, 0, 0, 0.3));\n",
              "      fill: #FFFFFF;\n",
              "    }\n",
              "  </style>\n",
              "\n",
              "      <script>\n",
              "        const buttonEl =\n",
              "          document.querySelector('#df-13775481-cf61-4fb9-b539-0a8cfe45b740 button.colab-df-convert');\n",
              "        buttonEl.style.display =\n",
              "          google.colab.kernel.accessAllowed ? 'block' : 'none';\n",
              "\n",
              "        async function convertToInteractive(key) {\n",
              "          const element = document.querySelector('#df-13775481-cf61-4fb9-b539-0a8cfe45b740');\n",
              "          const dataTable =\n",
              "            await google.colab.kernel.invokeFunction('convertToInteractive',\n",
              "                                                     [key], {});\n",
              "          if (!dataTable) return;\n",
              "\n",
              "          const docLinkHtml = 'Like what you see? Visit the ' +\n",
              "            '<a target=\"_blank\" href=https://colab.research.google.com/notebooks/data_table.ipynb>data table notebook</a>'\n",
              "            + ' to learn more about interactive tables.';\n",
              "          element.innerHTML = '';\n",
              "          dataTable['output_type'] = 'display_data';\n",
              "          await google.colab.output.renderOutput(dataTable, element);\n",
              "          const docLink = document.createElement('div');\n",
              "          docLink.innerHTML = docLinkHtml;\n",
              "          element.appendChild(docLink);\n",
              "        }\n",
              "      </script>\n",
              "    </div>\n",
              "  </div>\n",
              "  "
            ]
          },
          "metadata": {},
          "execution_count": 45
        }
      ]
    },
    {
      "cell_type": "markdown",
      "source": [
        "**Segmentação de dados**"
      ],
      "metadata": {
        "id": "FSBMfbE8_l7K"
      }
    },
    {
      "cell_type": "code",
      "source": [
        "drop_col = ['ID Produto','Tipo falha','Falha']\n",
        "\n",
        "X_treino = df_treino.drop(columns=drop_col)\n",
        "X_teste = df_teste.drop(columns=drop_col)\n",
        "\n",
        "y_treino = df_treino['Tipo falha']\n",
        "y_teste = df_teste['Tipo falha']\n"
      ],
      "metadata": {
        "id": "GvHW9XDacGL4"
      },
      "execution_count": 46,
      "outputs": []
    },
    {
      "cell_type": "markdown",
      "source": [
        "**Treinando o modelo**"
      ],
      "metadata": {
        "id": "zCt2wa5YGvHx"
      }
    },
    {
      "cell_type": "code",
      "source": [
        "rf = RandomForestClassifier(class_weight='balanced')\n",
        "rf.fit(X_treino,y_treino)\n",
        "\n",
        "rf.predict(X_teste)"
      ],
      "metadata": {
        "colab": {
          "base_uri": "https://localhost:8080/"
        },
        "id": "uoIq8dJsFFCs",
        "outputId": "39f10277-b618-4d21-bce7-9d895c294203"
      },
      "execution_count": 47,
      "outputs": [
        {
          "output_type": "execute_result",
          "data": {
            "text/plain": [
              "array(['Sem falha', 'Sem falha', 'Sem falha', ..., 'Sem falha',\n",
              "       'Sem falha', 'Sem falha'], dtype=object)"
            ]
          },
          "metadata": {},
          "execution_count": 47
        }
      ]
    },
    {
      "cell_type": "markdown",
      "source": [
        "**Aplicando o primeiro modelo de inteligência artifical: Random Forest**\n",
        "\n",
        "*  O Random Forest obteve uma assertividade de 92%\n",
        "\n",
        "\n"
      ],
      "metadata": {
        "id": "NndUaADJ_zxQ"
      }
    },
    {
      "cell_type": "code",
      "source": [
        "from sklearn.utils import multiclass\n",
        "prob_y = rf.predict_proba(X_teste)\n",
        "roc_auc_score(y_teste, prob_y, multi_class = 'ovo', average='weighted')"
      ],
      "metadata": {
        "id": "DYS-ZSi5FE3m",
        "colab": {
          "base_uri": "https://localhost:8080/"
        },
        "outputId": "e40ad54f-d3ff-437b-a389-8220a5fa9ea1"
      },
      "execution_count": 48,
      "outputs": [
        {
          "output_type": "execute_result",
          "data": {
            "text/plain": [
              "0.9243009507542039"
            ]
          },
          "metadata": {},
          "execution_count": 48
        }
      ]
    },
    {
      "cell_type": "markdown",
      "source": [
        "**Aplicando o segundo modelo de inteligência artifical: KNN(K-Nearest Neighbor)**\n",
        "\n",
        "1.   O KNN obteve uma assertividade de 76%\n",
        "\n",
        "\n"
      ],
      "metadata": {
        "id": "tzruL0nFAXW7"
      }
    },
    {
      "cell_type": "code",
      "source": [
        "knn = KNeighborsClassifier()\n",
        "knn.fit(X_treino, y_treino)\n",
        "\n",
        "y_proba = knn.predict_proba(X_teste)\n",
        "\n",
        "roc_auc_score(y_teste, y_proba, multi_class='ovo', average='weighted')"
      ],
      "metadata": {
        "id": "eHTxARLVerWh",
        "colab": {
          "base_uri": "https://localhost:8080/"
        },
        "outputId": "a1ce432d-8c80-433c-b79c-b7dcd159de9e"
      },
      "execution_count": 49,
      "outputs": [
        {
          "output_type": "execute_result",
          "data": {
            "text/plain": [
              "0.7646588053549611"
            ]
          },
          "metadata": {},
          "execution_count": 49
        }
      ]
    },
    {
      "cell_type": "markdown",
      "source": [
        "**Criando uma conexão com o PowerBI**"
      ],
      "metadata": {
        "id": "8BEJzOIiXfMP"
      }
    },
    {
      "cell_type": "code",
      "source": [
        "file = 'modelo_treinado.sav'\n",
        "pickle.dump(rf, open(file, 'wb'))\n"
      ],
      "metadata": {
        "id": "u4hgHvDT1B5s"
      },
      "execution_count": 50,
      "outputs": []
    },
    {
      "cell_type": "code",
      "source": [],
      "metadata": {
        "id": "H83XCBmD1Bxo"
      },
      "execution_count": 50,
      "outputs": []
    },
    {
      "cell_type": "code",
      "source": [],
      "metadata": {
        "id": "e6e1ydCT1BvC"
      },
      "execution_count": 50,
      "outputs": []
    },
    {
      "cell_type": "code",
      "source": [],
      "metadata": {
        "id": "QZaX-u0o1Bsb"
      },
      "execution_count": 50,
      "outputs": []
    },
    {
      "cell_type": "code",
      "source": [],
      "metadata": {
        "id": "Gb68gVvU1BpS"
      },
      "execution_count": 50,
      "outputs": []
    },
    {
      "cell_type": "code",
      "source": [],
      "metadata": {
        "id": "nAP3XWIN1BZr"
      },
      "execution_count": 50,
      "outputs": []
    }
  ]
}